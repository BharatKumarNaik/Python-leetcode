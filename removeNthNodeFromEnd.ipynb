{
 "cells": [
  {
   "cell_type": "code",
   "execution_count": 17,
   "metadata": {},
   "outputs": [],
   "source": [
    "class ListNode:\n",
    "    def __init__(self, val=0, next=None):\n",
    "        self.val = val\n",
    "        self.next = next\n",
    "        self.head= self \n",
    "    def insert(self,data):\n",
    "        if data==None:\n",
    "            return None\n",
    "        elif self.head==None:\n",
    "            return ListNode(data)\n",
    "        else:\n",
    "            cur=self.head\n",
    "            while cur.next!=None:\n",
    "                cur=cur.next\n",
    "            cur.next=ListNode(data)\n",
    "    def display(self,head):\n",
    "        cur=head\n",
    "        while cur!=None:\n",
    "            print(f\"{cur.val} \",end='->')\n",
    "            cur=cur.next"
   ]
  },
  {
   "cell_type": "code",
   "execution_count": 39,
   "metadata": {},
   "outputs": [
    {
     "name": "stdout",
     "output_type": "stream",
     "text": [
      "1 ->2 ->3 ->4 ->5 ->6 ->"
     ]
    }
   ],
   "source": [
    "arr=ListNode(1)\n",
    "arr.insert(2)\n",
    "arr.insert(3)\n",
    "arr.insert(4)\n",
    "arr.insert(5)\n",
    "arr.insert(6)\n",
    "arr.display(arr.head)"
   ]
  },
  {
   "cell_type": "code",
   "execution_count": 40,
   "metadata": {},
   "outputs": [],
   "source": [
    "def reverse(head):\n",
    "    prev=None\n",
    "    cur=head\n",
    "    while cur!=None:\n",
    "        temp=cur.next\n",
    "        cur.next=prev\n",
    "        prev=cur\n",
    "        cur=temp\n",
    "    return prev"
   ]
  },
  {
   "cell_type": "code",
   "execution_count": 41,
   "metadata": {},
   "outputs": [
    {
     "name": "stdout",
     "output_type": "stream",
     "text": [
      "6 ->5 ->4 ->3 ->2 ->1 ->"
     ]
    }
   ],
   "source": [
    "mid=reverse(arr.head)\n",
    "arr.display(mid)"
   ]
  },
  {
   "cell_type": "code",
   "execution_count": null,
   "metadata": {},
   "outputs": [],
   "source": [
    "# saved incomplete code\n",
    "\n",
    "# Definition for singly-linked list.\n",
    "# class ListNode:\n",
    "#     def __init__(self, val=0, next=None):\n",
    "#         self.val = val\n",
    "#         self.next = next\n",
    "class Solution:\n",
    "    def reverse(head):\n",
    "        prev=None\n",
    "        cur=head\n",
    "        while cur!=None:\n",
    "            temp=cur.next\n",
    "            cur.next=prev\n",
    "            prev=cur\n",
    "            cur=temp\n",
    "        return prev\n",
    "    def removeNthFromEnd(self, head: Optional[ListNode], n: int) -> Optional[ListNode]:\n",
    "        if head==None or head.next==None or n==0:\n",
    "            return None\n",
    "        temp=Solution.reverse(head)\n",
    "        if n==1:\n",
    "            while(temp.next!=None):\n",
    "                prev=temp\n",
    "                temp=temp.next\n",
    "                n=n-1\n",
    "            prev.next=prev.next.next\n",
    "            head=Solution.reverse(head)\n",
    "            return head\n",
    "        head,prev=temp,temp\n",
    "        while(temp.next!=None and n!=1):\n",
    "            prev=temp\n",
    "            temp=temp.next\n",
    "            n=n-1\n",
    "        prev.next=prev.next.next\n",
    "        head=Solution.reverse(head)\n",
    "        return head\n",
    "\n",
    "        \n",
    "         "
   ]
  }
 ],
 "metadata": {
  "interpreter": {
   "hash": "d037482c2aff907d93062036142513aa35c089f030f99e5c131152c32a020ae1"
  },
  "kernelspec": {
   "display_name": "Python 3.9.7 ('base')",
   "language": "python",
   "name": "python3"
  },
  "language_info": {
   "codemirror_mode": {
    "name": "ipython",
    "version": 3
   },
   "file_extension": ".py",
   "mimetype": "text/x-python",
   "name": "python",
   "nbconvert_exporter": "python",
   "pygments_lexer": "ipython3",
   "version": "3.9.7"
  },
  "orig_nbformat": 4
 },
 "nbformat": 4,
 "nbformat_minor": 2
}
