{
 "cells": [
  {
   "cell_type": "code",
   "execution_count": 18,
   "metadata": {},
   "outputs": [],
   "source": [
    "# balanced paranthesis dense maker \n",
    "def normal_one(paranthesis_str):\n",
    "    res=0\n",
    "    length=len(paranthesis_str)\n",
    "    for i in range(0,length//2):\n",
    "        if paranthesis_str[i] == \")\":\n",
    "            res=res+1\n",
    "    for i in range(length//2,length):\n",
    "        if paranthesis_str[i]==\"(\":\n",
    "            res=res+1\n",
    "    return res\n",
    "    "
   ]
  },
  {
   "cell_type": "code",
   "execution_count": 19,
   "metadata": {},
   "outputs": [
    {
     "name": "stdout",
     "output_type": "stream",
     "text": [
      "0\n",
      "2\n",
      "4\n"
     ]
    }
   ],
   "source": [
    "print(normal_one(\"(((())))\"))\n",
    "print(normal_one(\"(()(()))())\"))\n",
    "print(normal_one(\"()()()()()\"))\n"
   ]
  },
  {
   "cell_type": "code",
   "execution_count": 20,
   "metadata": {},
   "outputs": [],
   "source": [
    "# # For unbalanced parathesis as well\n",
    "# def normal_elemination(paranthesis_str,ty,res):\n",
    "#     # paranthesis_arr=paranthesis_str.split(' ')\n",
    "#     for i in range(0,len(paranthesis_str)):\n",
    "#         if paranthesis_str[i]==ty:\n",
    "#             paranthesis_str.pop(i)\n",
    "#             res=res+1\n",
    "#             print(f\"{paranthesis_str}  res={res}\")\n",
    "#     return paranthesis_str,res\n",
    "# def count_parathesis(paranthesis_str):\n",
    "#     open,close=0,0\n",
    "#     for i in paranthesis_str:\n",
    "#         if i == \"(\":\n",
    "#             open=open+1\n",
    "#         elif i==\")\":\n",
    "#             close=close+1\n",
    "#         else:\n",
    "#             return None,None\n",
    "#     return open,close\n",
    "# def general(paranthesis_str,res):\n",
    "#     length=len(paranthesis_str)\n",
    "#     left_side=[]\n",
    "#     right_side=[]\n",
    "#     open,close = count_parathesis(paranthesis_str)\n",
    "#     if open==close:\n",
    "#         left_side,res=normal_elemination(paranthesis_str[0:length//2],\")\",res)\n",
    "#         right_side,res=normal_elemination(paranthesis_str[length//2:length],\"(\",res)\n",
    "#         print(left_side+right_side,res)\n",
    "#         return res\n",
    "#     elif open>close:\n",
    "#         left_side=paranthesis_str[0:length//2]\n",
    "#         prev=res\n",
    "#         right_side,res=normal_elemination(paranthesis_str[length//2:length],\"(\",res)\n",
    "#         if prev==res:\n",
    "#             left_side.pop(0)\n",
    "#         general(left_side+right_side,res)\n",
    "#     else:\n",
    "#         right_side=paranthesis_str[length//2:length]\n",
    "#         prev=res\n",
    "#         left_side,res=normal_elemination(paranthesis_str[0:length//2],\")\",res)\n",
    "#         if prev==res:\n",
    "#             right_side.pop(0)\n",
    "#         general(left_side+right_side,res)\n",
    "\n",
    "    "
   ]
  },
  {
   "cell_type": "code",
   "execution_count": 21,
   "metadata": {},
   "outputs": [],
   "source": [
    "# general(['(','(',')',')','(','(','(','(',')'],0)"
   ]
  },
  {
   "cell_type": "code",
   "execution_count": 22,
   "metadata": {},
   "outputs": [],
   "source": [
    "# general(['(','(',')',')','(',')'],0)\n"
   ]
  },
  {
   "cell_type": "code",
   "execution_count": 35,
   "metadata": {},
   "outputs": [],
   "source": [
    "def count_parathesis(str_arr,result):\n",
    "    openp,closep=0,0\n",
    "    for i in str_arr:\n",
    "        if i == '(':\n",
    "            openp=openp+1\n",
    "        else:\n",
    "            closep=closep+1\n",
    "    return openp,closep\n",
    "def normal_elemination(str_arr,value,result):\n",
    "    i=0\n",
    "    length=len(str_arr)\n",
    "    while(i<length):\n",
    "        if str_arr[i]==value:\n",
    "            result=result+1\n",
    "            str_arr.pop(i)\n",
    "            length=length-1\n",
    "        i=i+1\n",
    "    print(f\"{str_arr}   result={result}\")\n",
    "    return str_arr,result\n",
    "def general(str_arr,result):\n",
    "    openp,closep=count_parathesis(str_arr,result)\n",
    "    if openp==closep:\n",
    "        left_side,result=normal_elemination(str_arr[0:len(str_arr)//2],\")\",result)\n",
    "        right_side,result=normal_elemination(str_arr[len(str_arr)//2:len(str_arr)],\"(\",result)\n",
    "        str_arr=left_side+right_side\n",
    "        return str_arr,result\n",
    "    elif openp>closep:\n",
    "        left_side=str_arr[0:len(str_arr)//2]\n",
    "        prev=result\n",
    "        right_side,result=normal_elemination(str_arr[len(str_arr)//2:len(str_arr)],\"(\",result)\n",
    "        if prev==result:\n",
    "            right_side.pop[0]\n",
    "            result=result+1\n",
    "            # print(f\"under no change condition block {left_side+right_side}  result={result}\")\n",
    "        general(left_side+right_side,result)\n",
    "    elif openp<closep:\n",
    "        right_side=str_arr[len(str_arr)//2:len(str_arr)]\n",
    "        prev=result\n",
    "        left_side,result=normal_elemination(str_arr[0:len(str_arr)//2],\")\",result)\n",
    "        if prev==result:\n",
    "            left_side.pop[0]\n",
    "            result=result+1\n",
    "            print(f\"under no change condition block {left_side+right_side}  result={result}\")\n",
    "        general(left_side+right_side,result)\n",
    "    \n",
    "            \n",
    "        "
   ]
  },
  {
   "cell_type": "code",
   "execution_count": 36,
   "metadata": {},
   "outputs": [
    {
     "name": "stdout",
     "output_type": "stream",
     "text": [
      "['(', '(', ')']   result=2\n",
      "[')', '(', ')']   result=3\n",
      "['(', '(']   result=4\n",
      "[')', ')']   result=5\n"
     ]
    }
   ],
   "source": [
    "general(['(','(',')',')','(','(','(','(',')'],0)"
   ]
  },
  {
   "cell_type": "code",
   "execution_count": 37,
   "metadata": {},
   "outputs": [
    {
     "name": "stdout",
     "output_type": "stream",
     "text": [
      "['(', '(']   result=1\n",
      "[')', ')']   result=2\n"
     ]
    },
    {
     "data": {
      "text/plain": [
       "(['(', '(', ')', ')'], 2)"
      ]
     },
     "execution_count": 37,
     "metadata": {},
     "output_type": "execute_result"
    }
   ],
   "source": [
    "general(['(','(',')',')','(',')'],0)"
   ]
  },
  {
   "cell_type": "code",
   "execution_count": 39,
   "metadata": {},
   "outputs": [
    {
     "name": "stdout",
     "output_type": "stream",
     "text": [
      "['(', ')', '(', ')']   result=2\n",
      "['(', '(']   result=5\n",
      "['(', ')', ')']   result=7\n"
     ]
    }
   ],
   "source": [
    "general([')','(',')','(',')','(','(','(',')','(','(',')'],0)"
   ]
  },
  {
   "cell_type": "code",
   "execution_count": null,
   "metadata": {},
   "outputs": [],
   "source": []
  }
 ],
 "metadata": {
  "interpreter": {
   "hash": "d037482c2aff907d93062036142513aa35c089f030f99e5c131152c32a020ae1"
  },
  "kernelspec": {
   "display_name": "Python 3.9.7 ('base')",
   "language": "python",
   "name": "python3"
  },
  "language_info": {
   "codemirror_mode": {
    "name": "ipython",
    "version": 3
   },
   "file_extension": ".py",
   "mimetype": "text/x-python",
   "name": "python",
   "nbconvert_exporter": "python",
   "pygments_lexer": "ipython3",
   "version": "3.9.7"
  },
  "orig_nbformat": 4
 },
 "nbformat": 4,
 "nbformat_minor": 2
}
