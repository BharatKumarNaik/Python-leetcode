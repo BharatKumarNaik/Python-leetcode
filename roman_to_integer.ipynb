{
 "cells": [
  {
   "cell_type": "code",
   "execution_count": 14,
   "metadata": {},
   "outputs": [
    {
     "name": "stdout",
     "output_type": "stream",
     "text": [
      "-1====>I=1\n",
      "-2====>I=2\n",
      "-3====>I=3\n",
      "3\n",
      "-1====>I=1\n",
      "-2====>I=2\n",
      "-3====>I=3\n",
      "-4====>V=8\n",
      "-5====>L=58\n",
      "58\n",
      "-1====>V=5\n",
      "-2====>I=4\n",
      "-3====>C=104\n",
      "-4====>X=94\n",
      "-5====>M=1094\n",
      "-6====>C=994\n",
      "-7====>M=1994\n",
      "1994\n"
     ]
    }
   ],
   "source": [
    "def roman(s):\n",
    "    result=0\n",
    "    prec={\"I\":1,\"V\":5,\"X\":10,\"L\":50,\"C\":100,\"D\":500,\"M\":1000,}\n",
    "    for i in range(1,len(s)+1):\n",
    "        rom=s[-i]\n",
    "        if -i==-1:\n",
    "            result=result+prec[rom]\n",
    "        else:\n",
    "            if prec[rom]>=prec[s[-i+1]]:\n",
    "                result=result+prec[rom]\n",
    "            else:\n",
    "                result=result-prec[rom]\n",
    "        print(f\"-{i}====>{rom}={result}\")       \n",
    "    return result    \n",
    "print(roman(\"III\"))  \n",
    "print(roman(\"LVIII\"))                     \n",
    "print(roman(\"MCMXCIV\")) \n",
    "# print(roman(\"MMMMMMMM\"))                     \n",
    "                    \n",
    "                   "
   ]
  },
  {
   "cell_type": "code",
   "execution_count": null,
   "metadata": {},
   "outputs": [],
   "source": []
  }
 ],
 "metadata": {
  "interpreter": {
   "hash": "d037482c2aff907d93062036142513aa35c089f030f99e5c131152c32a020ae1"
  },
  "kernelspec": {
   "display_name": "Python 3.9.7 ('base')",
   "language": "python",
   "name": "python3"
  },
  "language_info": {
   "codemirror_mode": {
    "name": "ipython",
    "version": 3
   },
   "file_extension": ".py",
   "mimetype": "text/x-python",
   "name": "python",
   "nbconvert_exporter": "python",
   "pygments_lexer": "ipython3",
   "version": "3.9.7"
  },
  "orig_nbformat": 4
 },
 "nbformat": 4,
 "nbformat_minor": 2
}
