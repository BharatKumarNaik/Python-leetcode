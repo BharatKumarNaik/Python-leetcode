{
 "cells": [
  {
   "cell_type": "code",
   "execution_count": 38,
   "metadata": {},
   "outputs": [],
   "source": [
    "class ListNode:\n",
    "    def __init__(self, val=0, next=None):\n",
    "        self.val = val\n",
    "        self.next = next\n",
    "        self.head= self \n",
    "    def insert(self,data):\n",
    "        if data==None:\n",
    "            return None\n",
    "        elif self.head==None:\n",
    "            return ListNode(data)\n",
    "        else:\n",
    "            cur=self.head\n",
    "            while cur.next!=None:\n",
    "                cur=cur.next\n",
    "            cur.next=ListNode(data)\n",
    "    def display(self,head):\n",
    "        cur=head\n",
    "        while cur!=None:\n",
    "            print(cur.val)\n",
    "            cur=cur.next\n",
    "            "
   ]
  },
  {
   "cell_type": "code",
   "execution_count": 42,
   "metadata": {},
   "outputs": [
    {
     "name": "stdout",
     "output_type": "stream",
     "text": [
      "1\n",
      "2\n",
      "3\n",
      "4\n",
      "5\n"
     ]
    }
   ],
   "source": [
    "arr=ListNode(1)\n",
    "arr.insert(2)\n",
    "arr.insert(3)\n",
    "arr.insert(4)\n",
    "arr.insert(5)\n",
    "# arr.insert(6)\n",
    "arr.display(arr.head)"
   ]
  },
  {
   "cell_type": "code",
   "execution_count": 43,
   "metadata": {},
   "outputs": [],
   "source": [
    "def mid_point(head):\n",
    "    slow,fast=head,head\n",
    "    while(fast and fast.next):\n",
    "        slow=slow.next\n",
    "        fast=fast.next.next\n",
    "    return slow\n"
   ]
  },
  {
   "cell_type": "code",
   "execution_count": 44,
   "metadata": {},
   "outputs": [
    {
     "name": "stdout",
     "output_type": "stream",
     "text": [
      "3\n",
      "4\n",
      "5\n"
     ]
    }
   ],
   "source": [
    "mid=mid_point(arr.head)\n",
    "arr.display(mid)"
   ]
  },
  {
   "cell_type": "code",
   "execution_count": null,
   "metadata": {},
   "outputs": [],
   "source": []
  }
 ],
 "metadata": {
  "interpreter": {
   "hash": "d037482c2aff907d93062036142513aa35c089f030f99e5c131152c32a020ae1"
  },
  "kernelspec": {
   "display_name": "Python 3.9.7 ('base')",
   "language": "python",
   "name": "python3"
  },
  "language_info": {
   "codemirror_mode": {
    "name": "ipython",
    "version": 3
   },
   "file_extension": ".py",
   "mimetype": "text/x-python",
   "name": "python",
   "nbconvert_exporter": "python",
   "pygments_lexer": "ipython3",
   "version": "3.9.7"
  },
  "orig_nbformat": 4
 },
 "nbformat": 4,
 "nbformat_minor": 2
}
