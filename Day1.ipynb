{
 "cells": [
  {
   "cell_type": "code",
   "execution_count": 18,
   "metadata": {},
   "outputs": [
    {
     "data": {
      "text/plain": [
       "False"
      ]
     },
     "execution_count": 18,
     "metadata": {},
     "output_type": "execute_result"
    }
   ],
   "source": [
    "def palindrome(str1):\n",
    "    str1=str1.lower()\n",
    "    actual=''\n",
    "    for i in str1:\n",
    "        if i.isalnum():\n",
    "            actual=actual+i\n",
    "    if actual[::-1]==actual:\n",
    "        return True\n",
    "    else:\n",
    "        return False\n",
    "\n",
    "palindrome('Abc dKj')\n",
    "palindrome('A man, a plan, a canal: Panama')\n",
    "palindrome(\"race a car\")"
   ]
  },
  {
   "cell_type": "code",
   "execution_count": 4,
   "metadata": {},
   "outputs": [
    {
     "data": {
      "text/plain": [
       "True"
      ]
     },
     "execution_count": 4,
     "metadata": {},
     "output_type": "execute_result"
    }
   ],
   "source": [
    "def anagram(s,t):\n",
    "    if sorted(s)==sorted(t):\n",
    "        return True\n",
    "    else:\n",
    "        return False\n",
    "\n",
    "anagram(\"anagram\",\"nagaram\")"
   ]
  },
  {
   "cell_type": "code",
   "execution_count": 22,
   "metadata": {},
   "outputs": [],
   "source": [
    "def valid_paranthesis(s):\n",
    "    ar=[-1,]\n",
    "    for i in s:\n",
    "        if i==\"(\" or i==\"{\" or i==\"[\":\n",
    "            ar.append(i)\n",
    "            # print(ar)\n",
    "        else:\n",
    "            top=ar.pop()\n",
    "            if((top==\"(\" and i!=\")\")or(top==\"[\" and i!=\"]\")or (top==\"{\" and i!=\"}\")):\n",
    "                # print(ar)\n",
    "                return False\n",
    "    if ar.pop()==-1:\n",
    "        return True\n",
    "    else:\n",
    "        return False \n",
    "        "
   ]
  },
  {
   "cell_type": "code",
   "execution_count": 23,
   "metadata": {},
   "outputs": [
    {
     "data": {
      "text/plain": [
       "True"
      ]
     },
     "execution_count": 23,
     "metadata": {},
     "output_type": "execute_result"
    }
   ],
   "source": [
    "valid_paranthesis(\"()[]{}\")"
   ]
  },
  {
   "cell_type": "code",
   "execution_count": 26,
   "metadata": {},
   "outputs": [],
   "source": [
    "def remove_consecutive(S):\n",
    "    arr=''\n",
    "    for i in S:\n",
    "        if len(arr)==0:\n",
    "            arr=arr+i\n",
    "        elif arr[-1]!=i:\n",
    "            arr=arr+i\n",
    "    return arr        \n",
    "    "
   ]
  },
  {
   "cell_type": "code",
   "execution_count": 27,
   "metadata": {},
   "outputs": [
    {
     "data": {
      "text/plain": [
       "'abac'"
      ]
     },
     "execution_count": 27,
     "metadata": {},
     "output_type": "execute_result"
    }
   ],
   "source": [
    "remove_consecutive(\"abaac\")"
   ]
  },
  {
   "cell_type": "code",
   "execution_count": 28,
   "metadata": {},
   "outputs": [],
   "source": [
    "def longest_prefix(strs):\n",
    "    base=strs.pop()\n",
    "    ar=''\n",
    "    j=0\n",
    "    streak=True\n",
    "    while j<len(base) and streak:\n",
    "        for i in strs:\n",
    "            if len(i)>len(ar) and base[j]==i[j]:\n",
    "                streak=True\n",
    "            else:\n",
    "                return ar\n",
    "        if streak:\n",
    "            ar=ar+base[j]\n",
    "        else:\n",
    "            return ar\n",
    "        j=j+1\n",
    "    return ar"
   ]
  },
  {
   "cell_type": "code",
   "execution_count": 29,
   "metadata": {},
   "outputs": [
    {
     "data": {
      "text/plain": [
       "'fl'"
      ]
     },
     "execution_count": 29,
     "metadata": {},
     "output_type": "execute_result"
    }
   ],
   "source": [
    "longest_prefix([\"flower\",\"flow\",\"flight\"])"
   ]
  },
  {
   "cell_type": "code",
   "execution_count": 30,
   "metadata": {},
   "outputs": [
    {
     "data": {
      "text/plain": [
       "''"
      ]
     },
     "execution_count": 30,
     "metadata": {},
     "output_type": "execute_result"
    }
   ],
   "source": [
    "longest_prefix([\"dog\",\"racecar\",\"car\"])"
   ]
  },
  {
   "cell_type": "code",
   "execution_count": 52,
   "metadata": {},
   "outputs": [],
   "source": [
    "# correct one\n",
    "def count_soldiers(l1):\n",
    "    count=0\n",
    "    for i in l1:\n",
    "        if i==1:\n",
    "            count+=1\n",
    "    return count\n",
    "def kWeakestRows(list1,k):\n",
    "    dic={}\n",
    "    for i in range(0,len(list1)):\n",
    "        dic[i]=count_soldiers(list1[i])\n",
    "    # print(sorted(dic.values(),key=dic.get))\n",
    "    # for i in range(0,len(dic)):\n",
    "    result=[]\n",
    "    for i in range(0,k):\n",
    "        weak=min(dic.values())\n",
    "        for i in range(0,len(dic)):\n",
    "            if dic[i]==weak:\n",
    "                result.append(i)\n",
    "                dic[i]=10000\n",
    "                break          \n",
    "    return result"
   ]
  },
  {
   "cell_type": "code",
   "execution_count": 64,
   "metadata": {},
   "outputs": [
    {
     "name": "stdout",
     "output_type": "stream",
     "text": [
      "[1, 2, 2, 4, 5]\n"
     ]
    },
    {
     "data": {
      "text/plain": [
       "[2, 0, 3]"
      ]
     },
     "execution_count": 64,
     "metadata": {},
     "output_type": "execute_result"
    }
   ],
   "source": [
    "kWeakestRows([[1,1,0,0,0],\n",
    " [1,1,1,1,0],\n",
    " [1,0,0,0,0],\n",
    " [1,1,0,0,0],\n",
    " [1,1,1,1,1]],3)"
   ]
  },
  {
   "cell_type": "code",
   "execution_count": 46,
   "metadata": {},
   "outputs": [
    {
     "name": "stdout",
     "output_type": "stream",
     "text": [
      "{0: 1, 1: 4, 2: 1, 3: 1}\n"
     ]
    },
    {
     "data": {
      "text/plain": [
       "[0, 2]"
      ]
     },
     "execution_count": 46,
     "metadata": {},
     "output_type": "execute_result"
    }
   ],
   "source": [
    "kWeakestRows([[1,0,0,0],\n",
    " [1,1,1,1],\n",
    " [1,0,0,0],\n",
    " [1,0,0,0]], 2)"
   ]
  },
  {
   "cell_type": "code",
   "execution_count": 62,
   "metadata": {},
   "outputs": [],
   "source": [
    "# optimal 120ms\n",
    "def count_soldiers(l1):\n",
    "    count=0\n",
    "    for i in l1:\n",
    "        if i==1:\n",
    "            count+=1\n",
    "    return count\n",
    "def kWeakestRows(list1,k):\n",
    "    dic={}\n",
    "    for i in range(0,len(list1)):\n",
    "        dic[i]=count_soldiers(list1[i])\n",
    "    print(sorted(dic.values()))\n",
    "    result=sorted(dic,key=dic.get)\n",
    "    # sorts based on values and stores its index\n",
    "    return result[0:k]"
   ]
  },
  {
   "cell_type": "code",
   "execution_count": 63,
   "metadata": {},
   "outputs": [
    {
     "name": "stdout",
     "output_type": "stream",
     "text": [
      "[1, 2, 2, 4, 5]\n"
     ]
    },
    {
     "data": {
      "text/plain": [
       "[2, 0, 3]"
      ]
     },
     "execution_count": 63,
     "metadata": {},
     "output_type": "execute_result"
    }
   ],
   "source": [
    "kWeakestRows([[1,1,0,0,0],\n",
    " [1,1,1,1,0],\n",
    " [1,0,0,0,0],\n",
    " [1,1,0,0,0],\n",
    " [1,1,1,1,1]],3)"
   ]
  },
  {
   "cell_type": "code",
   "execution_count": null,
   "metadata": {},
   "outputs": [],
   "source": []
  }
 ],
 "metadata": {
  "interpreter": {
   "hash": "d037482c2aff907d93062036142513aa35c089f030f99e5c131152c32a020ae1"
  },
  "kernelspec": {
   "display_name": "Python 3.9.7 ('base')",
   "language": "python",
   "name": "python3"
  },
  "language_info": {
   "codemirror_mode": {
    "name": "ipython",
    "version": 3
   },
   "file_extension": ".py",
   "mimetype": "text/x-python",
   "name": "python",
   "nbconvert_exporter": "python",
   "pygments_lexer": "ipython3",
   "version": "3.9.7"
  },
  "orig_nbformat": 4
 },
 "nbformat": 4,
 "nbformat_minor": 2
}
