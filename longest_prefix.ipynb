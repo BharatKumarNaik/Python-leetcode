{
 "cells": [
  {
   "cell_type": "code",
   "execution_count": 17,
   "metadata": {},
   "outputs": [],
   "source": [
    "def get_min(A):\n",
    "    min=len(A[0])\n",
    "    for i in range(0,len(A)):\n",
    "        if min>len(A[i]):\n",
    "            min=len(A[i])\n",
    "    return min,i\n",
    "def longest_prefix(str_arr):\n",
    "    #[\"bharat\",\"bharatkumar\",\"bharatnaik\",\"bharat2002\"]\n",
    "    j=0\n",
    "    result=''\n",
    "    base,key=get_min(str_arr)\n",
    "    i=0\n",
    "    streak=True\n",
    "    while (j<base and streak):\n",
    "        while(i<len(str_arr) and streak):\n",
    "            if str_arr[key][j]==str_arr[i][j]:\n",
    "                streak=True\n",
    "                i=i+1\n",
    "            else:\n",
    "                streak=False\n",
    "                return result\n",
    "        result=result+str_arr[key][j]\n",
    "        j=j+1\n",
    "    return result\n",
    "    "
   ]
  },
  {
   "cell_type": "code",
   "execution_count": 18,
   "metadata": {},
   "outputs": [
    {
     "data": {
      "text/plain": [
       "'bharatn'"
      ]
     },
     "execution_count": 18,
     "metadata": {},
     "output_type": "execute_result"
    }
   ],
   "source": [
    "longest_prefix([\"bharatn\",\"bharatnkumar\",\"bharatnaik\",\"bharatn2002\",\"bharatnaik\"])"
   ]
  },
  {
   "cell_type": "code",
   "execution_count": 19,
   "metadata": {},
   "outputs": [
    {
     "data": {
      "text/plain": [
       "'bharatn'"
      ]
     },
     "execution_count": 19,
     "metadata": {},
     "output_type": "execute_result"
    }
   ],
   "source": [
    "x=[\"bharatn\",\"bharatnkumar\",\"bharatnaik\",\"bharatn2002\",\"bharatnaik\"]\n",
    "def min_x(arr1):\n",
    "    mini=arr1[0]\n",
    "    for i in arr1:\n",
    "        if len(mini)>len(i):\n",
    "            mini=i\n",
    "    return mini\n",
    "\n",
    "\n",
    "min_x(x)"
   ]
  },
  {
   "cell_type": "code",
   "execution_count": 20,
   "metadata": {},
   "outputs": [
    {
     "data": {
      "text/plain": [
       "120"
      ]
     },
     "execution_count": 20,
     "metadata": {},
     "output_type": "execute_result"
    }
   ],
   "source": [
    "def factorial(num1):\n",
    "    result=1\n",
    "    while(num1!=0):\n",
    "        result=result*num1\n",
    "        num1-=1\n",
    "    return result\n",
    "\n",
    "factorial(5)"
   ]
  },
  {
   "cell_type": "code",
   "execution_count": 21,
   "metadata": {},
   "outputs": [
    {
     "data": {
      "text/plain": [
       "120"
      ]
     },
     "execution_count": 21,
     "metadata": {},
     "output_type": "execute_result"
    }
   ],
   "source": [
    "def factorial(num1):\n",
    "    if num1==1:\n",
    "        return 1\n",
    "    return num1*factorial(num1-1)\n",
    "factorial(5)  "
   ]
  },
  {
   "cell_type": "code",
   "execution_count": 29,
   "metadata": {},
   "outputs": [],
   "source": [
    "class Sys:\n",
    "    def __init__(self,da):\n",
    "        self.data=da\n",
    "    def feb(self,num):\n",
    "        first=0\n",
    "        second=1\n",
    "        for i in range(num):\n",
    "            res=first+second\n",
    "            first=second\n",
    "            second=res\n",
    "        return res"
   ]
  },
  {
   "cell_type": "code",
   "execution_count": 35,
   "metadata": {},
   "outputs": [
    {
     "data": {
      "text/plain": [
       "8"
      ]
     },
     "execution_count": 35,
     "metadata": {},
     "output_type": "execute_result"
    }
   ],
   "source": [
    "feb(5)"
   ]
  },
  {
   "cell_type": "code",
   "execution_count": 30,
   "metadata": {},
   "outputs": [],
   "source": [
    "obj2=Sys(5)"
   ]
  },
  {
   "cell_type": "code",
   "execution_count": 31,
   "metadata": {},
   "outputs": [
    {
     "data": {
      "text/plain": [
       "5"
      ]
     },
     "execution_count": 31,
     "metadata": {},
     "output_type": "execute_result"
    }
   ],
   "source": [
    "obj2.data"
   ]
  },
  {
   "cell_type": "code",
   "execution_count": 34,
   "metadata": {},
   "outputs": [
    {
     "data": {
      "text/plain": [
       "7"
      ]
     },
     "execution_count": 34,
     "metadata": {},
     "output_type": "execute_result"
    }
   ],
   "source": [
    "obj3=Sys(7)\n",
    "obj3.data"
   ]
  },
  {
   "cell_type": "code",
   "execution_count": 33,
   "metadata": {},
   "outputs": [
    {
     "data": {
      "text/plain": [
       "5"
      ]
     },
     "execution_count": 33,
     "metadata": {},
     "output_type": "execute_result"
    }
   ],
   "source": [
    "obj2.data"
   ]
  },
  {
   "cell_type": "code",
   "execution_count": null,
   "metadata": {},
   "outputs": [],
   "source": []
  }
 ],
 "metadata": {
  "interpreter": {
   "hash": "d037482c2aff907d93062036142513aa35c089f030f99e5c131152c32a020ae1"
  },
  "kernelspec": {
   "display_name": "Python 3.9.7 ('base')",
   "language": "python",
   "name": "python3"
  },
  "language_info": {
   "codemirror_mode": {
    "name": "ipython",
    "version": 3
   },
   "file_extension": ".py",
   "mimetype": "text/x-python",
   "name": "python",
   "nbconvert_exporter": "python",
   "pygments_lexer": "ipython3",
   "version": "3.9.7"
  },
  "orig_nbformat": 4
 },
 "nbformat": 4,
 "nbformat_minor": 2
}
