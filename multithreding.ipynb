{
 "cells": [
  {
   "cell_type": "code",
   "execution_count": 2,
   "metadata": {},
   "outputs": [
    {
     "name": "stderr",
     "output_type": "stream",
     "text": [
      "ERROR: Could not find a version that satisfies the requirement threading (from versions: none)\n",
      "ERROR: No matching distribution found for threading\n"
     ]
    }
   ],
   "source": [
    "%pip install threading"
   ]
  },
  {
   "cell_type": "code",
   "execution_count": 3,
   "metadata": {},
   "outputs": [],
   "source": [
    "from threading import *"
   ]
  },
  {
   "cell_type": "code",
   "execution_count": 10,
   "metadata": {},
   "outputs": [
    {
     "name": "stdout",
     "output_type": "stream",
     "text": [
      "child thread Thread-14main MainThread\n",
      "\n",
      "child thread Thread-14\n",
      "child thread Thread-14\n",
      "child thread Thread-14\n",
      "child thread Thread-14\n",
      "child thread Thread-14\n",
      "child thread Thread-14\n",
      "child thread Thread-14\n",
      "child thread Thread-14\n",
      "child thread Thread-14\n"
     ]
    }
   ],
   "source": [
    "def new():\n",
    "    for i in range(0,10):\n",
    "        print(\"child thread\",current_thread().getName())\n",
    "\n",
    "t1=Thread(target=new)\n",
    "t1.start()\n",
    "# t1.join()\n",
    "print(\"main\",current_thread().getName())"
   ]
  },
  {
   "cell_type": "markdown",
   "metadata": {},
   "source": [
    "By extending thread class"
   ]
  },
  {
   "cell_type": "code",
   "execution_count": 13,
   "metadata": {},
   "outputs": [],
   "source": [
    "from threading import *"
   ]
  },
  {
   "cell_type": "code",
   "execution_count": 27,
   "metadata": {},
   "outputs": [
    {
     "name": "stdout",
     "output_type": "stream",
     "text": [
      "child= Thread-27\n",
      "child= Thread-27\n",
      "child= Thread-27\n",
      "child= main= MainThread\n",
      "Thread-27\n",
      "child= Thread-27\n",
      "child= Thread-27\n",
      "child= Thread-27\n",
      "child=Wall time: 2.63 ms\n",
      " Thread-27\n",
      "child= Thread-27\n",
      "child= Thread-27\n"
     ]
    }
   ],
   "source": [
    "%%time\n",
    "class A(Thread):\n",
    "    def run(self):\n",
    "        for x in range(0,10):\n",
    "            print(\"child=\",current_thread().getName())\n",
    "\n",
    "t2=A()\n",
    "t2.start()\n",
    "# t2.join()\n",
    "print(\"main=\",current_thread().getName())"
   ]
  },
  {
   "cell_type": "markdown",
   "metadata": {},
   "source": [
    "without extending Thread class"
   ]
  },
  {
   "cell_type": "code",
   "execution_count": 28,
   "metadata": {},
   "outputs": [
    {
     "name": "stdout",
     "output_type": "stream",
     "text": [
      "child 1 \n",
      "child 2 \n",
      "child 3 \n",
      "child 12 \n",
      "child 123 \n",
      "done\n",
      "Wall time: 4.07 ms\n"
     ]
    }
   ],
   "source": [
    "%%time\n",
    "class AB:\n",
    "    def B(self):\n",
    "        list=[1,2,3,\"12\",\"123\"]\n",
    "        for x in list:\n",
    "            print(f\"child {x} \")\n",
    "\n",
    "obj=AB()\n",
    "t3=Thread(target=obj.B)\n",
    "t3.start()  \n",
    "print('done')\n",
    "        "
   ]
  },
  {
   "cell_type": "code",
   "execution_count": 30,
   "metadata": {},
   "outputs": [
    {
     "name": "stdout",
     "output_type": "stream",
     "text": [
      "MainThread\n",
      "Thread-4\n",
      "Thread-5\n",
      "Thread-3\n",
      "IPythonHistorySavingThread\n",
      "Thread-2\n"
     ]
    }
   ],
   "source": [
    "for thread in enumerate():\n",
    "    print(thread.name)"
   ]
  },
  {
   "cell_type": "code",
   "execution_count": 8,
   "metadata": {},
   "outputs": [
    {
     "name": "stdout",
     "output_type": "stream",
     "text": [
      "child thread MainThread\n",
      "child thread MainThread\n",
      "child thread MainThread\n",
      "child thread MainThread\n",
      "child thread MainThread\n",
      "child thread MainThread\n",
      "child thread MainThread\n",
      "child thread MainThread\n",
      "child thread MainThread\n",
      "child thread MainThread\n",
      "main MainThread\n"
     ]
    }
   ],
   "source": [
    "def new():\n",
    "    # print(x)\n",
    "    for i in range(0,10):\n",
    "        print(\"child thread\",current_thread().getName())\n",
    "\n",
    "t1=Thread(target=new())\n",
    "t1.start()\n",
    "# t1.join()\n",
    "print(\"main\",current_thread().getName())"
   ]
  },
  {
   "cell_type": "code",
   "execution_count": null,
   "metadata": {},
   "outputs": [],
   "source": []
  }
 ],
 "metadata": {
  "interpreter": {
   "hash": "d037482c2aff907d93062036142513aa35c089f030f99e5c131152c32a020ae1"
  },
  "kernelspec": {
   "display_name": "Python 3.9.7 ('base')",
   "language": "python",
   "name": "python3"
  },
  "language_info": {
   "codemirror_mode": {
    "name": "ipython",
    "version": 3
   },
   "file_extension": ".py",
   "mimetype": "text/x-python",
   "name": "python",
   "nbconvert_exporter": "python",
   "pygments_lexer": "ipython3",
   "version": "3.9.7"
  },
  "orig_nbformat": 4
 },
 "nbformat": 4,
 "nbformat_minor": 2
}
