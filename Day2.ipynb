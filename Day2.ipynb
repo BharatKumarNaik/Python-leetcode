{
 "cells": [
  {
   "cell_type": "code",
   "execution_count": 4,
   "metadata": {},
   "outputs": [],
   "source": [
    "def twosum(nums,target):\n",
    "    diff = {} \n",
    "    for i in range(len(nums)):\n",
    "        if nums[i] in diff:\n",
    "            return [diff[nums[i]] , i]\n",
    "        diff[target - nums[i]] = i"
   ]
  },
  {
   "cell_type": "code",
   "execution_count": 5,
   "metadata": {},
   "outputs": [
    {
     "data": {
      "text/plain": [
       "[1, 2]"
      ]
     },
     "execution_count": 5,
     "metadata": {},
     "output_type": "execute_result"
    }
   ],
   "source": [
    "twosum([2,5,5,11],10)"
   ]
  },
  {
   "cell_type": "code",
   "execution_count": 1,
   "metadata": {},
   "outputs": [
    {
     "data": {
      "text/plain": [
       "'4321'"
      ]
     },
     "execution_count": 1,
     "metadata": {},
     "output_type": "execute_result"
    }
   ],
   "source": [
    "x=\"1234\"\n",
    "x[::-1]"
   ]
  },
  {
   "cell_type": "code",
   "execution_count": null,
   "metadata": {},
   "outputs": [],
   "source": [
    "        head=ListNode()\n",
    "        cur=head\n",
    "        temp1=ListNode()\n",
    "        s1=''\n",
    "        s2=''\n",
    "        while l1!=None: \n",
    "            s1+=l1.val\n",
    "            s2+=l2.val\n",
    "            l1=l1.next\n",
    "            l2=l2.next\n",
    "        result=int(s1[::-1])+int(s2[::-1])\n",
    "        result=str(result)\n",
    "        i=0\n",
    "        while i<len(result):\n",
    "            \n",
    "            if i==0:\n",
    "                cur.val=int(result)\n",
    "                cur.next=None\n",
    "            else:\n",
    "                cur.next=int(result)\n",
    "        return head"
   ]
  }
 ],
 "metadata": {
  "interpreter": {
   "hash": "d037482c2aff907d93062036142513aa35c089f030f99e5c131152c32a020ae1"
  },
  "kernelspec": {
   "display_name": "Python 3.9.7 ('base')",
   "language": "python",
   "name": "python3"
  },
  "language_info": {
   "codemirror_mode": {
    "name": "ipython",
    "version": 3
   },
   "file_extension": ".py",
   "mimetype": "text/x-python",
   "name": "python",
   "nbconvert_exporter": "python",
   "pygments_lexer": "ipython3",
   "version": "3.9.7"
  },
  "orig_nbformat": 4
 },
 "nbformat": 4,
 "nbformat_minor": 2
}
