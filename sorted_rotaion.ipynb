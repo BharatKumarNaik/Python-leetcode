{
 "cells": [
  {
   "cell_type": "code",
   "execution_count": 2,
   "metadata": {},
   "outputs": [],
   "source": [
    "test = {\n",
    "    'input': {\n",
    "        'nums': [19, 25, 29, 3, 5, 6, 7, 9, 11, 14]\n",
    "    },\n",
    "    'output': 3\n",
    "}"
   ]
  },
  {
   "cell_type": "code",
   "execution_count": 3,
   "metadata": {},
   "outputs": [],
   "source": [
    "test0 = test\n",
    "# A list of size 8 rotated 5 times.\n",
    "test1 = {\n",
    "    'input': {\n",
    "        'nums': [22,29,30,35,41,11,14,16]\n",
    "    },\n",
    "    'output': 5\n",
    "}\n",
    "# A list that wasn't rotated at all.\n",
    "test2 = {\n",
    "    'input': {\n",
    "        'nums':  [3, 5, 6, 7, 9, 11, 14,19, 25, 29]\n",
    "    },\n",
    "    'output': 0\n",
    "}\n",
    "# A list that was rotated just once.\n",
    "test3 = {\n",
    "    'input': {\n",
    "        'nums': [29, 3, 5, 6, 7, 9, 11, 14, 19, 25]\n",
    "    },\n",
    "    'output': 1\n",
    "}\n",
    "# A list that was rotated n-1 times, where n is the size of the list.\n",
    "test4 = {\n",
    "    'input': {\n",
    "        'nums':  [ 5, 6, 7, 9, 11, 14,19, 25, 29,3]\n",
    "    },\n",
    "    'output': 9\n",
    "}\n",
    "# A list that was rotated n times, where n is the size of the list\n",
    "test5 = {\n",
    "    'input': {\n",
    "        'nums': [3, 5, 6, 7, 9, 11, 14,19, 25, 29]\n",
    "    },\n",
    "    'output': 0\n",
    "}\n",
    "# An empty list.\n",
    "test6 = {\n",
    "    'input': {\n",
    "        'nums': []\n",
    "    },\n",
    "    'output': 0\n",
    "}\n",
    "# A list containing just one element.\n",
    "test7 = {\n",
    "    'input': {\n",
    "        'nums': [1]\n",
    "    },\n",
    "    'output': 0\n",
    "}"
   ]
  },
  {
   "cell_type": "code",
   "execution_count": 4,
   "metadata": {},
   "outputs": [],
   "source": [
    "tests = [test0, test1, test2, test3, test3, test5, test6, test7]"
   ]
  },
  {
   "cell_type": "code",
   "execution_count": 5,
   "metadata": {},
   "outputs": [
    {
     "data": {
      "text/plain": [
       "[{'input': {'nums': [19, 25, 29, 3, 5, 6, 7, 9, 11, 14]}, 'output': 3},\n",
       " {'input': {'nums': [22, 29, 30, 35, 41, 11, 14, 16]}, 'output': 5},\n",
       " {'input': {'nums': [3, 5, 6, 7, 9, 11, 14, 19, 25, 29]}, 'output': 0},\n",
       " {'input': {'nums': [29, 3, 5, 6, 7, 9, 11, 14, 19, 25]}, 'output': 1},\n",
       " {'input': {'nums': [29, 3, 5, 6, 7, 9, 11, 14, 19, 25]}, 'output': 1},\n",
       " {'input': {'nums': [3, 5, 6, 7, 9, 11, 14, 19, 25, 29]}, 'output': 0},\n",
       " {'input': {'nums': []}, 'output': 0},\n",
       " {'input': {'nums': [1]}, 'output': 0}]"
      ]
     },
     "execution_count": 5,
     "metadata": {},
     "output_type": "execute_result"
    }
   ],
   "source": [
    "tests"
   ]
  },
  {
   "cell_type": "code",
   "execution_count": 6,
   "metadata": {},
   "outputs": [],
   "source": [
    "def count_rotations_linear(nums):\n",
    "    position = 1                 # What is the intial value of position?\n",
    "    \n",
    "    while position<len(nums):                      # When should the loop be terminated?\n",
    "        \n",
    "        # Success criteria: check whether the number at the current position is smaller than the one before it\n",
    "        if position > 0 and nums[position]<nums[position-1]:   # How to perform the check?\n",
    "            return position\n",
    "        \n",
    "        # Move to the next position\n",
    "        position += 1\n",
    "    \n",
    "    return 0                     # What if none of the positions passed the check       "
   ]
  },
  {
   "cell_type": "code",
   "execution_count": 13,
   "metadata": {},
   "outputs": [
    {
     "name": "stdout",
     "output_type": "stream",
     "text": [
      "0 result=True,\n",
      "1 result=True,\n",
      "2 result=True,\n",
      "3 result=True,\n",
      "4 result=True,\n",
      "5 result=True,\n",
      "6 result=True,\n",
      "7 result=True,\n"
     ]
    }
   ],
   "source": [
    "k=0\n",
    "for i in tests:\n",
    "    nums0 = i['input']['nums']\n",
    "    output0 = i['output']\n",
    "    result0 = count_rotations_linear(nums0)\n",
    "\n",
    "    result0, result0 == output0\n",
    "    print(f\"{k} result={result0==output0},\")\n",
    "    k=k+1"
   ]
  },
  {
   "cell_type": "markdown",
   "metadata": {},
   "source": [
    "Implementing binary search algorithm"
   ]
  },
  {
   "cell_type": "code",
   "execution_count": 17,
   "metadata": {},
   "outputs": [],
   "source": [
    "def count_rotations_binary(nums):\n",
    "    lo = 0\n",
    "    hi = len(nums)-1\n",
    "    \n",
    "    # most general condition of BST\n",
    "    while lo<=hi:  \n",
    "        mid = (lo+hi)//2\n",
    "        mid_number = nums[mid]\n",
    "        \n",
    "        # Uncomment the next line for logging the values and fixing errors.\n",
    "        print(\"lo:\", lo, \", hi:\", hi, \", mid:\", mid, \", mid_number:\", mid_number)\n",
    "        \n",
    "        if mid > 0 and mid_number<nums[mid-1]:\n",
    "            # The middle position is the answer\n",
    "            return mid\n",
    "        \n",
    "        elif mid_number<nums[hi]:\n",
    "            # Answer lies in the left half\n",
    "            hi = mid - 1  \n",
    "        \n",
    "        else:\n",
    "            # Answer lies in the right half\n",
    "            lo = mid + 1\n",
    "    \n",
    "    return 0"
   ]
  },
  {
   "cell_type": "code",
   "execution_count": 18,
   "metadata": {},
   "outputs": [
    {
     "name": "stdout",
     "output_type": "stream",
     "text": [
      "lo: 0 , hi: 9 , mid: 4 , mid_number: 5\n",
      "lo: 0 , hi: 3 , mid: 1 , mid_number: 25\n",
      "lo: 2 , hi: 3 , mid: 2 , mid_number: 29\n",
      "lo: 3 , hi: 3 , mid: 3 , mid_number: 3\n",
      "0 result=True,\n",
      "lo: 0 , hi: 7 , mid: 3 , mid_number: 35\n",
      "lo: 4 , hi: 7 , mid: 5 , mid_number: 11\n",
      "1 result=True,\n",
      "lo: 0 , hi: 9 , mid: 4 , mid_number: 9\n",
      "lo: 0 , hi: 3 , mid: 1 , mid_number: 5\n",
      "lo: 0 , hi: 0 , mid: 0 , mid_number: 3\n",
      "2 result=True,\n",
      "lo: 0 , hi: 9 , mid: 4 , mid_number: 7\n",
      "lo: 0 , hi: 3 , mid: 1 , mid_number: 3\n",
      "3 result=True,\n",
      "lo: 0 , hi: 9 , mid: 4 , mid_number: 7\n",
      "lo: 0 , hi: 3 , mid: 1 , mid_number: 3\n",
      "4 result=True,\n",
      "lo: 0 , hi: 9 , mid: 4 , mid_number: 9\n",
      "lo: 0 , hi: 3 , mid: 1 , mid_number: 5\n",
      "lo: 0 , hi: 0 , mid: 0 , mid_number: 3\n",
      "5 result=True,\n",
      "6 result=True,\n",
      "lo: 0 , hi: 0 , mid: 0 , mid_number: 1\n",
      "7 result=True,\n"
     ]
    }
   ],
   "source": [
    "k=0\n",
    "for i in tests:\n",
    "    nums0 = i['input']['nums']\n",
    "    output0 = i['output']\n",
    "    result0 = count_rotations_binary(nums0)\n",
    "\n",
    "    result0, result0 == output0\n",
    "    print(f\"{k} result={result0==output0},\")\n",
    "    k=k+1"
   ]
  },
  {
   "cell_type": "code",
   "execution_count": 30,
   "metadata": {},
   "outputs": [],
   "source": [
    "# print(\"{0:.6f}\".format(3.234567/2))"
   ]
  },
  {
   "cell_type": "code",
   "execution_count": null,
   "metadata": {},
   "outputs": [],
   "source": []
  }
 ],
 "metadata": {
  "interpreter": {
   "hash": "d037482c2aff907d93062036142513aa35c089f030f99e5c131152c32a020ae1"
  },
  "kernelspec": {
   "display_name": "Python 3.9.7 ('base')",
   "language": "python",
   "name": "python3"
  },
  "language_info": {
   "codemirror_mode": {
    "name": "ipython",
    "version": 3
   },
   "file_extension": ".py",
   "mimetype": "text/x-python",
   "name": "python",
   "nbconvert_exporter": "python",
   "pygments_lexer": "ipython3",
   "version": "3.9.7"
  },
  "orig_nbformat": 4
 },
 "nbformat": 4,
 "nbformat_minor": 2
}
